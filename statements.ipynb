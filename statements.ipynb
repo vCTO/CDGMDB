{
  "nbformat": 4,
  "nbformat_minor": 0,
  "metadata": {
    "colab": {
      "name": "statements.ipynb",
      "provenance": [],
      "collapsed_sections": [],
      "authorship_tag": "ABX9TyNoYQnRzw/acuyVS25dgzzE",
      "include_colab_link": true
    },
    "kernelspec": {
      "name": "python3",
      "display_name": "Python 3"
    },
    "language_info": {
      "name": "python"
    }
  },
  "cells": [
    {
      "cell_type": "markdown",
      "metadata": {
        "id": "view-in-github",
        "colab_type": "text"
      },
      "source": [
        "<a href=\"https://colab.research.google.com/github/vCTO/CDGMDB/blob/master/statements.ipynb\" target=\"_parent\"><img src=\"https://colab.research.google.com/assets/colab-badge.svg\" alt=\"Open In Colab\"/></a>"
      ]
    },
    {
      "cell_type": "code",
      "metadata": {
        "id": "8bk8aX7lx-RW"
      },
      "source": [
        ""
      ],
      "execution_count": null,
      "outputs": []
    },
    {
      "cell_type": "markdown",
      "metadata": {
        "id": "L8t9ld2czKFY"
      },
      "source": [
        "# Lesson One: Statements"
      ]
    },
    {
      "cell_type": "markdown",
      "metadata": {
        "id": "IzKAOQPG1i3r"
      },
      "source": [
        "### Hello World Example"
      ]
    },
    {
      "cell_type": "code",
      "metadata": {
        "colab": {
          "base_uri": "https://localhost:8080/"
        },
        "id": "7PgzLZK4zMtB",
        "outputId": "b3ec10bb-2e57-4ac5-e732-e289cee8f8be"
      },
      "source": [
        "print(\"Hello World!\")"
      ],
      "execution_count": 1,
      "outputs": [
        {
          "output_type": "stream",
          "name": "stdout",
          "text": [
            "Hello World!\n"
          ]
        }
      ]
    },
    {
      "cell_type": "code",
      "metadata": {
        "id": "JH-0HdXX0cbp"
      },
      "source": [
        "var = \"Apple\""
      ],
      "execution_count": 2,
      "outputs": []
    },
    {
      "cell_type": "code",
      "metadata": {
        "colab": {
          "base_uri": "https://localhost:8080/"
        },
        "id": "FEyKBj5w0fQv",
        "outputId": "bf2a65e8-c3ef-43e8-81c3-b4866059cce3"
      },
      "source": [
        "print(f\"This is a good fruit to eat in the winter: {var}\")"
      ],
      "execution_count": 3,
      "outputs": [
        {
          "output_type": "stream",
          "name": "stdout",
          "text": [
            "This is a good fruit to eat in the winter: Apple\n"
          ]
        }
      ]
    },
    {
      "cell_type": "code",
      "metadata": {
        "id": "NL_QhRk90nDC"
      },
      "source": [
        "num = 100"
      ],
      "execution_count": 4,
      "outputs": []
    },
    {
      "cell_type": "code",
      "metadata": {
        "colab": {
          "base_uri": "https://localhost:8080/"
        },
        "id": "R8-qQUwz0qID",
        "outputId": "24c9d93b-3397-4f5e-8978-896a12bf3e1e"
      },
      "source": [
        "type(num)"
      ],
      "execution_count": 5,
      "outputs": [
        {
          "output_type": "execute_result",
          "data": {
            "text/plain": [
              "int"
            ]
          },
          "metadata": {},
          "execution_count": 5
        }
      ]
    },
    {
      "cell_type": "code",
      "metadata": {
        "colab": {
          "base_uri": "https://localhost:8080/"
        },
        "id": "yxXg_MB80rC_",
        "outputId": "f09146f7-a5c1-476d-f382-94d45ecaf756"
      },
      "source": [
        "print(f\"The amount of money I would like in my wallet is ${num}\")"
      ],
      "execution_count": 7,
      "outputs": [
        {
          "output_type": "stream",
          "name": "stdout",
          "text": [
            "The amount of money I would like in my wallet is $100\n"
          ]
        }
      ]
    },
    {
      "cell_type": "code",
      "metadata": {
        "id": "8Bvfwlj_0xdY"
      },
      "source": [
        ""
      ],
      "execution_count": null,
      "outputs": []
    }
  ]
}